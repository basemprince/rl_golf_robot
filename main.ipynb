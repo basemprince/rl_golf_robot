{
 "cells": [
  {
   "cell_type": "code",
   "execution_count": 1,
   "id": "0f14ba40",
   "metadata": {},
   "outputs": [],
   "source": [
    "import numpy as np\n",
    "import gymnasium as gym\n",
    "from sai_rl import SAIClient"
   ]
  },
  {
   "cell_type": "code",
   "execution_count": 2,
   "id": "261be19e",
   "metadata": {},
   "outputs": [
    {
     "data": {
      "text/html": [
       "<pre style=\"white-space:pre;overflow-x:auto;line-height:normal;font-family:Menlo,'DejaVu Sans Mono',consolas,'Courier New',monospace\"><span style=\"color: #c0c0c0; text-decoration-color: #c0c0c0\">╭──────────────────────────────────────────────────────────────────────────────────────────────────╮</span>\n",
       "<span style=\"color: #c0c0c0; text-decoration-color: #c0c0c0\">│</span>                                                                                                  <span style=\"color: #c0c0c0; text-decoration-color: #c0c0c0\">│</span>\n",
       "<span style=\"color: #c0c0c0; text-decoration-color: #c0c0c0\">│</span>                                                                                                  <span style=\"color: #c0c0c0; text-decoration-color: #c0c0c0\">│</span>\n",
       "<span style=\"color: #c0c0c0; text-decoration-color: #c0c0c0\">│</span>                             <span style=\"color: #c0c0c0; text-decoration-color: #c0c0c0; font-weight: bold\">      ########      ###     ###########</span>                              <span style=\"color: #c0c0c0; text-decoration-color: #c0c0c0\">│</span>\n",
       "<span style=\"color: #c0c0c0; text-decoration-color: #c0c0c0\">│</span>                             <span style=\"color: #c0c0c0; text-decoration-color: #c0c0c0; font-weight: bold\">    #+#    #+#   #+# #+#       #+#</span>                                   <span style=\"color: #c0c0c0; text-decoration-color: #c0c0c0\">│</span>\n",
       "<span style=\"color: #c0c0c0; text-decoration-color: #c0c0c0\">│</span>                             <span style=\"color: #c0c0c0; text-decoration-color: #c0c0c0; font-weight: bold\">   +#+         +#+   +#+      +#+</span>                                    <span style=\"color: #c0c0c0; text-decoration-color: #c0c0c0\">│</span>\n",
       "<span style=\"color: #c0c0c0; text-decoration-color: #c0c0c0\">│</span>                             <span style=\"color: #c0c0c0; text-decoration-color: #c0c0c0; font-weight: bold\">  +########+ +#########+     +#+</span>                                     <span style=\"color: #c0c0c0; text-decoration-color: #c0c0c0\">│</span>\n",
       "<span style=\"color: #c0c0c0; text-decoration-color: #c0c0c0\">│</span>                             <span style=\"color: #c0c0c0; text-decoration-color: #c0c0c0; font-weight: bold\">        +#+ +#+     +#+     +#+</span>                                      <span style=\"color: #c0c0c0; text-decoration-color: #c0c0c0\">│</span>\n",
       "<span style=\"color: #c0c0c0; text-decoration-color: #c0c0c0\">│</span>                             <span style=\"color: #c0c0c0; text-decoration-color: #c0c0c0; font-weight: bold\">#+#    #+# #+#     #+#     #+#</span>                                       <span style=\"color: #c0c0c0; text-decoration-color: #c0c0c0\">│</span>\n",
       "<span style=\"color: #c0c0c0; text-decoration-color: #c0c0c0\">│</span>                             <span style=\"color: #c0c0c0; text-decoration-color: #c0c0c0; font-weight: bold\">########  ###     ### ###########</span>                                    <span style=\"color: #c0c0c0; text-decoration-color: #c0c0c0\">│</span>\n",
       "<span style=\"color: #c0c0c0; text-decoration-color: #c0c0c0\">│</span>                                                                                                  <span style=\"color: #c0c0c0; text-decoration-color: #c0c0c0\">│</span>\n",
       "<span style=\"color: #c0c0c0; text-decoration-color: #c0c0c0\">│</span>                                                                                         <span style=\"color: #c0c0c0; text-decoration-color: #c0c0c0; font-weight: bold\">v0.1.17</span>  <span style=\"color: #c0c0c0; text-decoration-color: #c0c0c0\">│</span>\n",
       "<span style=\"color: #c0c0c0; text-decoration-color: #c0c0c0\">│</span>                                                                              <span style=\"color: #7f7f7f; text-decoration-color: #7f7f7f\">© 2025 ArenaX Labs</span>  <span style=\"color: #c0c0c0; text-decoration-color: #c0c0c0\">│</span>\n",
       "<span style=\"color: #c0c0c0; text-decoration-color: #c0c0c0\">╰──────────────────────────────────────────────────────────────────────────────────────────────────╯</span>\n",
       "</pre>\n"
      ],
      "text/plain": [
       "\u001b[37m╭──────────────────────────────────────────────────────────────────────────────────────────────────╮\u001b[0m\n",
       "\u001b[37m│\u001b[0m                                                                                                  \u001b[37m│\u001b[0m\n",
       "\u001b[37m│\u001b[0m                                                                                                  \u001b[37m│\u001b[0m\n",
       "\u001b[37m│\u001b[0m                             \u001b[1;37m      ########      ###     ###########\u001b[0m                              \u001b[37m│\u001b[0m\n",
       "\u001b[37m│\u001b[0m                             \u001b[1;37m    #+#    #+#   #+# #+#       #+#\u001b[0m                                   \u001b[37m│\u001b[0m\n",
       "\u001b[37m│\u001b[0m                             \u001b[1;37m   +#+         +#+   +#+      +#+\u001b[0m                                    \u001b[37m│\u001b[0m\n",
       "\u001b[37m│\u001b[0m                             \u001b[1;37m  +########+ +#########+     +#+\u001b[0m                                     \u001b[37m│\u001b[0m\n",
       "\u001b[37m│\u001b[0m                             \u001b[1;37m        +#+ +#+     +#+     +#+\u001b[0m                                      \u001b[37m│\u001b[0m\n",
       "\u001b[37m│\u001b[0m                             \u001b[1;37m#+#    #+# #+#     #+#     #+#\u001b[0m                                       \u001b[37m│\u001b[0m\n",
       "\u001b[37m│\u001b[0m                             \u001b[1;37m########  ###     ### ###########\u001b[0m                                    \u001b[37m│\u001b[0m\n",
       "\u001b[37m│\u001b[0m                                                                                                  \u001b[37m│\u001b[0m\n",
       "\u001b[37m│\u001b[0m                                                                                         \u001b[1;37mv0.1.17\u001b[0m  \u001b[37m│\u001b[0m\n",
       "\u001b[37m│\u001b[0m                                                                              \u001b[2m© 2025 ArenaX Labs\u001b[0m  \u001b[37m│\u001b[0m\n",
       "\u001b[37m╰──────────────────────────────────────────────────────────────────────────────────────────────────╯\u001b[0m\n"
      ]
     },
     "metadata": {},
     "output_type": "display_data"
    },
    {
     "data": {
      "text/html": [
       "<pre style=\"white-space:pre;overflow-x:auto;line-height:normal;font-family:Menlo,'DejaVu Sans Mono',consolas,'Courier New',monospace\">/opt/homebrew/anaconda3/envs/franka-golf/lib/python3.10/site-packages/rich/live.py:231: UserWarning: install \n",
       "\"ipywidgets\" for Jupyter support\n",
       "  warnings.warn('install \"ipywidgets\" for Jupyter support')\n",
       "</pre>\n"
      ],
      "text/plain": [
       "/opt/homebrew/anaconda3/envs/franka-golf/lib/python3.10/site-packages/rich/live.py:231: UserWarning: install \n",
       "\"ipywidgets\" for Jupyter support\n",
       "  warnings.warn('install \"ipywidgets\" for Jupyter support')\n"
      ]
     },
     "metadata": {},
     "output_type": "display_data"
    },
    {
     "name": "stdout",
     "output_type": "stream",
     "text": [
      "Testing franka-ml-hiring for starting position randomization...\n",
      "\n"
     ]
    },
    {
     "data": {
      "text/html": [
       "<pre style=\"white-space:pre;overflow-x:auto;line-height:normal;font-family:Menlo,'DejaVu Sans Mono',consolas,'Courier New',monospace\">\n",
       "</pre>\n"
      ],
      "text/plain": [
       "\n"
      ]
     },
     "metadata": {},
     "output_type": "display_data"
    },
    {
     "data": {
      "text/html": [
       "<pre style=\"white-space:pre;overflow-x:auto;line-height:normal;font-family:Menlo,'DejaVu Sans Mono',consolas,'Courier New',monospace\"><span style=\"color: #008080; text-decoration-color: #008080\">╭─ \"Franka Golf\" (franka-ml-hiring) ───────────────────────────────────────────────────────────────╮</span>\n",
       "<span style=\"color: #008080; text-decoration-color: #008080\">│</span>                                                                                                  <span style=\"color: #008080; text-decoration-color: #008080\">│</span>\n",
       "<span style=\"color: #008080; text-decoration-color: #008080\">│</span>  <span style=\"color: #008080; text-decoration-color: #008080; font-weight: bold\">Env:</span>    FrankaIkGolfCourseEnv-v0                                                                <span style=\"color: #008080; text-decoration-color: #008080\">│</span>\n",
       "<span style=\"color: #008080; text-decoration-color: #008080\">│</span>  <span style=\"color: #008080; text-decoration-color: #008080; font-weight: bold\">Env Standard:</span> gymnasium                                                                         <span style=\"color: #008080; text-decoration-color: #008080\">│</span>\n",
       "<span style=\"color: #008080; text-decoration-color: #008080\">│</span>  <span style=\"color: #008080; text-decoration-color: #008080; font-weight: bold\">Env Vars:</span> {}                                                                                    <span style=\"color: #008080; text-decoration-color: #008080\">│</span>\n",
       "<span style=\"color: #008080; text-decoration-color: #008080\">│</span>  <span style=\"color: #008080; text-decoration-color: #008080; font-weight: bold\">Package:</span> sai_mujoco                                                                             <span style=\"color: #008080; text-decoration-color: #008080\">│</span>\n",
       "<span style=\"color: #008080; text-decoration-color: #008080\">│</span>                                                                              <a href=\"https://competesai.com/competitions/cmp_ggXm4dunXCpu\" target=\"_blank\">View in Platform →</a>  <span style=\"color: #008080; text-decoration-color: #008080\">│</span>\n",
       "<span style=\"color: #008080; text-decoration-color: #008080\">╰──────────────────────────────────────────────────────────────────────────────────────────────────╯</span>\n",
       "</pre>\n"
      ],
      "text/plain": [
       "\u001b[36m╭─\u001b[0m\u001b[36m \"Franka Golf\" (franka-ml-hiring) \u001b[0m\u001b[36m──────────────────────────────────────────────────────────────\u001b[0m\u001b[36m─╮\u001b[0m\n",
       "\u001b[36m│\u001b[0m                                                                                                  \u001b[36m│\u001b[0m\n",
       "\u001b[36m│\u001b[0m  \u001b[1;36mEnv:\u001b[0m    FrankaIkGolfCourseEnv-v0                                                                \u001b[36m│\u001b[0m\n",
       "\u001b[36m│\u001b[0m  \u001b[1;36mEnv Standard:\u001b[0m gymnasium                                                                         \u001b[36m│\u001b[0m\n",
       "\u001b[36m│\u001b[0m  \u001b[1;36mEnv Vars:\u001b[0m {}                                                                                    \u001b[36m│\u001b[0m\n",
       "\u001b[36m│\u001b[0m  \u001b[1;36mPackage:\u001b[0m sai_mujoco                                                                             \u001b[36m│\u001b[0m\n",
       "\u001b[36m│\u001b[0m                                                                              \u001b]8;id=95148;https://competesai.com/competitions/cmp_ggXm4dunXCpu\u001b\\View in Platform →\u001b]8;;\u001b\\  \u001b[36m│\u001b[0m\n",
       "\u001b[36m╰──────────────────────────────────────────────────────────────────────────────────────────────────╯\u001b[0m\n"
      ]
     },
     "metadata": {},
     "output_type": "display_data"
    },
    {
     "data": {
      "text/html": [
       "<pre style=\"white-space:pre;overflow-x:auto;line-height:normal;font-family:Menlo,'DejaVu Sans Mono',consolas,'Courier New',monospace\"><span style=\"color: #008000; text-decoration-color: #008000; font-weight: bold\">✓ Successfully imported sai_mujoco package.</span>\n",
       "</pre>\n"
      ],
      "text/plain": [
       "\u001b[1;32m✓ Successfully imported sai_mujoco package.\u001b[0m\n"
      ]
     },
     "metadata": {},
     "output_type": "display_data"
    },
    {
     "data": {
      "text/html": [
       "<pre style=\"white-space:pre;overflow-x:auto;line-height:normal;font-family:Menlo,'DejaVu Sans Mono',consolas,'Courier New',monospace\"><span style=\"color: #008000; text-decoration-color: #008000; font-weight: bold\">✓ Successfully loaded competition.</span>\n",
       "</pre>\n"
      ],
      "text/plain": [
       "\u001b[1;32m✓ Successfully loaded competition.\u001b[0m\n"
      ]
     },
     "metadata": {},
     "output_type": "display_data"
    },
    {
     "data": {
      "text/html": [
       "<pre style=\"white-space:pre;overflow-x:auto;line-height:normal;font-family:Menlo,'DejaVu Sans Mono',consolas,'Courier New',monospace\">\n",
       "</pre>\n"
      ],
      "text/plain": [
       "\n"
      ]
     },
     "metadata": {},
     "output_type": "display_data"
    },
    {
     "data": {
      "text/html": [
       "<pre style=\"white-space:pre;overflow-x:auto;line-height:normal;font-family:Menlo,'DejaVu Sans Mono',consolas,'Courier New',monospace\"></pre>\n"
      ],
      "text/plain": []
     },
     "metadata": {},
     "output_type": "display_data"
    },
    {
     "name": "stdout",
     "output_type": "stream",
     "text": [
      "Reset 0: Seed=846618, Club Pos=[0.7   0.    0.135]\n",
      "Reset 1: Seed=755839, Club Pos=[0.7   0.    0.135]\n",
      "Reset 2: Seed=938500, Club Pos=[0.7   0.    0.135]\n",
      "Reset 3: Seed=250805, Club Pos=[0.7   0.    0.135]\n",
      "Reset 4: Seed=410679, Club Pos=[0.7   0.    0.135]\n",
      "\n",
      "Summary of Club Positions:\n",
      "0: [0.7   0.    0.135]\n",
      "1: [0.7   0.    0.135]\n",
      "2: [0.7   0.    0.135]\n",
      "3: [0.7   0.    0.135]\n",
      "4: [0.7   0.    0.135]\n",
      "\n",
      "❌ Environment appears STATIC (club position is the same every reset).\n"
     ]
    }
   ],
   "source": [
    "# Import your simplify_obs function from your existing code\n",
    "# If it's in the same file, just copy the definition here\n",
    "def simplify_obs(obs, include_velocities=False):\n",
    "    joint_positions = obs[0:9]\n",
    "    if include_velocities:\n",
    "        joint_velocities = obs[9:18]\n",
    "        ball_pos = obs[18:21]\n",
    "        club_pos = obs[21:24]\n",
    "        club_quat = obs[24:28]\n",
    "        hole_pos = obs[28:31]\n",
    "    else:\n",
    "        if len(obs) == 31:\n",
    "            ball_pos = obs[18:21]\n",
    "            club_pos = obs[21:24]\n",
    "            club_quat = obs[24:28]\n",
    "            hole_pos = obs[28:31]\n",
    "        else:\n",
    "            ball_pos = obs[9:12]\n",
    "            club_pos = obs[12:15]\n",
    "            club_quat = obs[15:19]\n",
    "            hole_pos = obs[19:22]\n",
    "        joint_velocities = np.zeros(9, dtype=np.float32)\n",
    "\n",
    "    return {\n",
    "        \"joint_positions\": joint_positions,\n",
    "        \"joint_velocities\": joint_velocities,\n",
    "        \"ball_pos\": ball_pos,\n",
    "        \"club_pos\": club_pos,\n",
    "        \"club_quat\": club_quat,\n",
    "        \"hole_pos\": hole_pos,\n",
    "    }\n",
    "\n",
    "\n",
    "def test_env_randomization(env_id=\"franka-ml-hiring\", num_resets=5):\n",
    "    print(f\"Testing {env_id} for starting position randomization...\\n\")\n",
    "\n",
    "    sai = SAIClient(comp_id=env_id)\n",
    "\n",
    "    # Training environment (NO rendering for speed)\n",
    "    env = sai.make_env()\n",
    "\n",
    "    positions = []\n",
    "    for i in range(num_resets):\n",
    "        # Use a random seed for each reset\n",
    "        seed = np.random.randint(0, 1_000_000)\n",
    "        obs, _ = env.reset(seed=seed)\n",
    "\n",
    "        components = simplify_obs(obs, include_velocities=True)\n",
    "        club_pos = components[\"club_pos\"]\n",
    "\n",
    "        positions.append(club_pos)\n",
    "        print(f\"Reset {i}: Seed={seed}, Club Pos={club_pos}\")\n",
    "\n",
    "    print(\"\\nSummary of Club Positions:\")\n",
    "    for idx, pos in enumerate(positions):\n",
    "        print(f\"{idx}: {pos}\")\n",
    "\n",
    "    if all(np.allclose(positions[0], p, atol=1e-4) for p in positions[1:]):\n",
    "        print(\"\\n❌ Environment appears STATIC (club position is the same every reset).\")\n",
    "    else:\n",
    "        print(\"\\n✅ Environment randomization ACTIVE (club positions differ across resets).\")\n",
    "\n",
    "    env.close()\n",
    "\n",
    "\n",
    "test_env_randomization()"
   ]
  }
 ],
 "metadata": {
  "kernelspec": {
   "display_name": "franka-golf",
   "language": "python",
   "name": "python3"
  },
  "language_info": {
   "codemirror_mode": {
    "name": "ipython",
    "version": 3
   },
   "file_extension": ".py",
   "mimetype": "text/x-python",
   "name": "python",
   "nbconvert_exporter": "python",
   "pygments_lexer": "ipython3",
   "version": "3.10.18"
  }
 },
 "nbformat": 4,
 "nbformat_minor": 5
}
